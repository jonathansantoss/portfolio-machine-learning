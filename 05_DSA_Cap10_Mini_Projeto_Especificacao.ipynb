{
  "nbformat": 4,
  "nbformat_minor": 0,
  "metadata": {
    "anaconda-cloud": {},
    "kernelspec": {
      "display_name": "Python 3",
      "language": "python",
      "name": "python3"
    },
    "language_info": {
      "codemirror_mode": {
        "name": "ipython",
        "version": 3
      },
      "file_extension": ".py",
      "mimetype": "text/x-python",
      "name": "python",
      "nbconvert_exporter": "python",
      "pygments_lexer": "ipython3",
      "version": "3.7.4"
    },
    "colab": {
      "name": "05-DSA-Cap10-Mini-Projeto-Especificacao.ipynb",
      "provenance": [],
      "toc_visible": true,
      "include_colab_link": true
    }
  },
  "cells": [
    {
      "cell_type": "markdown",
      "metadata": {
        "id": "view-in-github",
        "colab_type": "text"
      },
      "source": [
        "<a href=\"https://colab.research.google.com/github/jonathansantoss/portfolio-machine-learning/blob/master/05_DSA_Cap10_Mini_Projeto_Especificacao.ipynb\" target=\"_parent\"><img src=\"https://colab.research.google.com/assets/colab-badge.svg\" alt=\"Open In Colab\"/></a>"
      ]
    },
    {
      "cell_type": "markdown",
      "metadata": {
        "id": "K7db0xM4qImM",
        "colab_type": "text"
      },
      "source": [
        "# <font color='blue'>Data Science Academy - Machine Learning</font>\n",
        "\n",
        "# <font color='blue'>Capítulo 10 - Mini-Projeto - Agrupando Clientes Por Consumo de Energia</font>\n",
        "\n",
        "### Especificação"
      ]
    },
    {
      "cell_type": "code",
      "metadata": {
        "id": "xcYrJcVpqarA",
        "colab_type": "code",
        "colab": {
          "base_uri": "https://localhost:8080/",
          "height": 122
        },
        "outputId": "5172b220-491a-4e7d-d216-dcec48518332"
      },
      "source": [
        "from google.colab import drive\n",
        "drive.mount('/content/drive')"
      ],
      "execution_count": 3,
      "outputs": [
        {
          "output_type": "stream",
          "text": [
            "Go to this URL in a browser: https://accounts.google.com/o/oauth2/auth?client_id=947318989803-6bn6qk8qdgf4n4g3pfee6491hc0brc4i.apps.googleusercontent.com&redirect_uri=urn%3aietf%3awg%3aoauth%3a2.0%3aoob&scope=email%20https%3a%2f%2fwww.googleapis.com%2fauth%2fdocs.test%20https%3a%2f%2fwww.googleapis.com%2fauth%2fdrive%20https%3a%2f%2fwww.googleapis.com%2fauth%2fdrive.photos.readonly%20https%3a%2f%2fwww.googleapis.com%2fauth%2fpeopleapi.readonly&response_type=code\n",
            "\n",
            "Enter your authorization code:\n",
            "··········\n",
            "Mounted at /content/drive\n"
          ],
          "name": "stdout"
        }
      ]
    },
    {
      "cell_type": "markdown",
      "metadata": {
        "id": "cU6tm3ZkqImQ",
        "colab_type": "text"
      },
      "source": [
        "A partir de dados de consumo de energia de clientes, nosso trabalho é agrupar os consumidores por similaridade a afim de compreender o comportamento dos clientes e sua relação com o consumo de energia."
      ]
    },
    {
      "cell_type": "markdown",
      "metadata": {
        "id": "rejqeTN9qImS",
        "colab_type": "text"
      },
      "source": [
        "Você deve executar as seguintes tarefas:\n",
        "    \n",
        "1- Tratar os valores ausentes nos dados.\n",
        "\n",
        "2- Coletar uma amostra de 1% dos dados para criar o modelo de clusterização com o K-Means.\n",
        "\n",
        "3- Encontrar o melhor valor de K para esse conjunto de dados.\n",
        "\n",
        "4- Criar o modelo K-Means usando o valor de K encontrado no item 3.\n",
        "\n",
        "5- Criar um Meshgrid para visualização de todos os clusters.\n",
        "\n",
        "6- Visualizar os centróides.\n",
        "\n",
        "7- Calcular o Silhoutte Score.\n",
        "\n",
        "8 - Calcular a média de consumo de energia por cluster (usar a coluna Global_active_power para o cálculo da média).\n",
        "\n",
        "Dica: Para o item 8, considere a amostra criada no item 2."
      ]
    },
    {
      "cell_type": "code",
      "metadata": {
        "id": "kvL-AxnkqImU",
        "colab_type": "code",
        "colab": {}
      },
      "source": [
        "# Imports\n",
        "import pandas as pd\n",
        "import numpy as np\n",
        "import matplotlib.pyplot as plt\n",
        "from matplotlib import pylab\n",
        "from sklearn.cluster import KMeans\n",
        "from sklearn.decomposition import PCA\n",
        "from sklearn.model_selection import train_test_split\n",
        "from scipy.spatial.distance import cdist, pdist\n",
        "from sklearn.metrics import silhouette_score\n",
        "from sklearn.model_selection import RandomizedSearchCV\n",
        "import warnings\n",
        "warnings.filterwarnings(\"ignore\")\n",
        "%matplotlib inline"
      ],
      "execution_count": 48,
      "outputs": []
    },
    {
      "cell_type": "markdown",
      "metadata": {
        "id": "Uq-ScyMEqIme",
        "colab_type": "text"
      },
      "source": [
        "https://archive.ics.uci.edu/ml/datasets/Individual+household+electric+power+consumption"
      ]
    },
    {
      "cell_type": "code",
      "metadata": {
        "id": "BZvfoYlKqImg",
        "colab_type": "code",
        "colab": {}
      },
      "source": [
        "# Carregando os dados\n",
        "dataset = pd.read_csv('/content/drive/My Drive/Colab Notebooks/dados/household_power_consumption.txt', delimiter = ';', low_memory = False)"
      ],
      "execution_count": 49,
      "outputs": []
    },
    {
      "cell_type": "code",
      "metadata": {
        "id": "bPTKMM9UqImn",
        "colab_type": "code",
        "colab": {
          "base_uri": "https://localhost:8080/",
          "height": 204
        },
        "outputId": "a703a056-8335-4cd3-897e-409aaefa7c7b"
      },
      "source": [
        "dataset.head()"
      ],
      "execution_count": 50,
      "outputs": [
        {
          "output_type": "execute_result",
          "data": {
            "text/html": [
              "<div>\n",
              "<style scoped>\n",
              "    .dataframe tbody tr th:only-of-type {\n",
              "        vertical-align: middle;\n",
              "    }\n",
              "\n",
              "    .dataframe tbody tr th {\n",
              "        vertical-align: top;\n",
              "    }\n",
              "\n",
              "    .dataframe thead th {\n",
              "        text-align: right;\n",
              "    }\n",
              "</style>\n",
              "<table border=\"1\" class=\"dataframe\">\n",
              "  <thead>\n",
              "    <tr style=\"text-align: right;\">\n",
              "      <th></th>\n",
              "      <th>Date</th>\n",
              "      <th>Time</th>\n",
              "      <th>Global_active_power</th>\n",
              "      <th>Global_reactive_power</th>\n",
              "      <th>Voltage</th>\n",
              "      <th>Global_intensity</th>\n",
              "      <th>Sub_metering_1</th>\n",
              "      <th>Sub_metering_2</th>\n",
              "      <th>Sub_metering_3</th>\n",
              "    </tr>\n",
              "  </thead>\n",
              "  <tbody>\n",
              "    <tr>\n",
              "      <th>0</th>\n",
              "      <td>16/12/2006</td>\n",
              "      <td>17:24:00</td>\n",
              "      <td>4.216</td>\n",
              "      <td>0.418</td>\n",
              "      <td>234.840</td>\n",
              "      <td>18.400</td>\n",
              "      <td>0.000</td>\n",
              "      <td>1.000</td>\n",
              "      <td>17.0</td>\n",
              "    </tr>\n",
              "    <tr>\n",
              "      <th>1</th>\n",
              "      <td>16/12/2006</td>\n",
              "      <td>17:25:00</td>\n",
              "      <td>5.360</td>\n",
              "      <td>0.436</td>\n",
              "      <td>233.630</td>\n",
              "      <td>23.000</td>\n",
              "      <td>0.000</td>\n",
              "      <td>1.000</td>\n",
              "      <td>16.0</td>\n",
              "    </tr>\n",
              "    <tr>\n",
              "      <th>2</th>\n",
              "      <td>16/12/2006</td>\n",
              "      <td>17:26:00</td>\n",
              "      <td>5.374</td>\n",
              "      <td>0.498</td>\n",
              "      <td>233.290</td>\n",
              "      <td>23.000</td>\n",
              "      <td>0.000</td>\n",
              "      <td>2.000</td>\n",
              "      <td>17.0</td>\n",
              "    </tr>\n",
              "    <tr>\n",
              "      <th>3</th>\n",
              "      <td>16/12/2006</td>\n",
              "      <td>17:27:00</td>\n",
              "      <td>5.388</td>\n",
              "      <td>0.502</td>\n",
              "      <td>233.740</td>\n",
              "      <td>23.000</td>\n",
              "      <td>0.000</td>\n",
              "      <td>1.000</td>\n",
              "      <td>17.0</td>\n",
              "    </tr>\n",
              "    <tr>\n",
              "      <th>4</th>\n",
              "      <td>16/12/2006</td>\n",
              "      <td>17:28:00</td>\n",
              "      <td>3.666</td>\n",
              "      <td>0.528</td>\n",
              "      <td>235.680</td>\n",
              "      <td>15.800</td>\n",
              "      <td>0.000</td>\n",
              "      <td>1.000</td>\n",
              "      <td>17.0</td>\n",
              "    </tr>\n",
              "  </tbody>\n",
              "</table>\n",
              "</div>"
            ],
            "text/plain": [
              "         Date      Time  ... Sub_metering_2 Sub_metering_3\n",
              "0  16/12/2006  17:24:00  ...          1.000           17.0\n",
              "1  16/12/2006  17:25:00  ...          1.000           16.0\n",
              "2  16/12/2006  17:26:00  ...          2.000           17.0\n",
              "3  16/12/2006  17:27:00  ...          1.000           17.0\n",
              "4  16/12/2006  17:28:00  ...          1.000           17.0\n",
              "\n",
              "[5 rows x 9 columns]"
            ]
          },
          "metadata": {
            "tags": []
          },
          "execution_count": 50
        }
      ]
    },
    {
      "cell_type": "code",
      "metadata": {
        "id": "vRiKOCaLsrDE",
        "colab_type": "code",
        "colab": {}
      },
      "source": [
        "names = ['Global_active_power',\n",
        "                 'Global_reactive_power',\n",
        "                 'Voltage',\t\n",
        "                 'Global_intensity', \n",
        "                 'Sub_metering_1',\t\n",
        "                 'Sub_metering_2',\t\n",
        "                 'Sub_metering_3']\n",
        "dataset = dataset[names].dropna()"
      ],
      "execution_count": 51,
      "outputs": []
    },
    {
      "cell_type": "code",
      "metadata": {
        "id": "HlmTH11NI2fq",
        "colab_type": "code",
        "colab": {}
      },
      "source": [
        "amostra1, _ = train_test_split(dataset, train_size = 0.01)"
      ],
      "execution_count": 52,
      "outputs": []
    },
    {
      "cell_type": "code",
      "metadata": {
        "id": "yx1tUH1duXGr",
        "colab_type": "code",
        "colab": {}
      },
      "source": [
        "pca = PCA(n_components=2).fit(amostra1)\n",
        "pca_2d = pca.transform(amostra1)"
      ],
      "execution_count": 53,
      "outputs": []
    },
    {
      "cell_type": "code",
      "metadata": {
        "id": "uggzXMkbL7VH",
        "colab_type": "code",
        "colab": {
          "base_uri": "https://localhost:8080/",
          "height": 34
        },
        "outputId": "65ca9491-1500-4abe-a35a-c89529fd0639"
      },
      "source": [
        "param_grid = {\"n_clusters\": range(2, 12),\n",
        "              \"random_state\": [0, 50, 100, 111]}\n",
        "\n",
        "search = RandomizedSearchCV(\n",
        "    KMeans(),\n",
        "    param_distributions=param_grid,\n",
        "    n_iter=100\n",
        "    )\n",
        "\n",
        "search.fit(pca_2d)\n",
        "search.best_params_"
      ],
      "execution_count": 54,
      "outputs": [
        {
          "output_type": "execute_result",
          "data": {
            "text/plain": [
              "{'n_clusters': 11, 'random_state': 50}"
            ]
          },
          "metadata": {
            "tags": []
          },
          "execution_count": 54
        }
      ]
    },
    {
      "cell_type": "code",
      "metadata": {
        "id": "kJ42YcYC_lG7",
        "colab_type": "code",
        "colab": {
          "base_uri": "https://localhost:8080/",
          "height": 483
        },
        "outputId": "0f5cee43-49bb-4a03-c60e-c6ed2576b1e8"
      },
      "source": [
        "pylab.rcParams['figure.figsize'] = (10.0, 8.0)\n",
        "\n",
        "for n_iter in range(1, 5):\n",
        "  plt.subplot(2, 2, n_iter)\n",
        "\n",
        "  modelo = KMeans(n_clusters=11, random_state=50, max_iter=n_iter)\n",
        "  modelo.fit(pca_2d)\n",
        "\n",
        "  h = 0.02\n",
        "  xx, yy = np.meshgrid(np.arange(-70, 70, h), np.arange(-70, 70, h))\n",
        "  z = modelo.predict(np.c_[xx.ravel(), yy.ravel()]).reshape(xx.shape)\n",
        "\n",
        "  plt.imshow(z,\n",
        "             interpolation='nearest', \n",
        "             cmap = plt.cm.Accent,\n",
        "             extent = (xx.min(), xx.max(), yy.min(), yy.max()),\n",
        "             aspect = 'auto',\n",
        "             origin = 'lower')\n",
        "  \n",
        "  plt.scatter(pca_2d[:, 0], pca_2d[:, 1], c = modelo.labels_, edgecolors='none', alpha=.7)\n",
        "  plt.scatter(modelo.cluster_centers_[:,0], modelo.cluster_centers_[:,1], marker = 'x', color = 'r', s = 100, linewidths=4)"
      ],
      "execution_count": 55,
      "outputs": [
        {
          "output_type": "display_data",
          "data": {
            "image/png": "[encoded data removed]",
            "text/plain": [
              "<Figure size 720x576 with 4 Axes>"
            ]
          },
          "metadata": {
            "tags": [],
            "needs_background": "light"
          }
        }
      ]
    },
    {
      "cell_type": "code",
      "metadata": {
        "id": "qffeFUIOTv2p",
        "colab_type": "code",
        "colab": {
          "base_uri": "https://localhost:8080/",
          "height": 68
        },
        "outputId": "a10605e5-fa3e-42e2-cfa3-186010ad15c4"
      },
      "source": [
        "modelo = KMeans(n_clusters=11, random_state=50)\n",
        "modelo.fit(pca_2d)"
      ],
      "execution_count": 56,
      "outputs": [
        {
          "output_type": "execute_result",
          "data": {
            "text/plain": [
              "KMeans(algorithm='auto', copy_x=True, init='k-means++', max_iter=300,\n",
              "       n_clusters=11, n_init=10, n_jobs=None, precompute_distances='auto',\n",
              "       random_state=50, tol=0.0001, verbose=0)"
            ]
          },
          "metadata": {
            "tags": []
          },
          "execution_count": 56
        }
      ]
    },
    {
      "cell_type": "code",
      "metadata": {
        "id": "04O3xQPt0rNI",
        "colab_type": "code",
        "colab": {
          "base_uri": "https://localhost:8080/",
          "height": 34
        },
        "outputId": "b7211203-ab1a-4eb5-edc8-eb0175eede1b"
      },
      "source": [
        "print(\"Silhouette Coefficient: %0.3f\"\n",
        "      % silhouette_score(pca_2d, modelo.labels_, metric='euclidean'))"
      ],
      "execution_count": 57,
      "outputs": [
        {
          "output_type": "stream",
          "text": [
            "Silhouette Coefficient: 0.632\n"
          ],
          "name": "stdout"
        }
      ]
    },
    {
      "cell_type": "code",
      "metadata": {
        "id": "LML8ABVLKp8R",
        "colab_type": "code",
        "colab": {
          "base_uri": "https://localhost:8080/",
          "height": 238
        },
        "outputId": "b9e0b85d-d1cc-44fb-a0ed-ab640b16eda3"
      },
      "source": [
        "cluster_map = pd.DataFrame(amostra1, columns=classes_names)\n",
        "cluster_map['Global_active_power'] =pd.to_numeric(amostra1['Global_active_power'])\n",
        "cluster_map['clusters'] = modelo.labels_\n",
        "cluster_map.groupby('clusters')['Global_active_power'].mean()"
      ],
      "execution_count": 58,
      "outputs": [
        {
          "output_type": "execute_result",
          "data": {
            "text/plain": [
              "clusters\n",
              "0     0.358591\n",
              "1     2.943426\n",
              "2     4.039506\n",
              "3     3.267389\n",
              "4     6.532909\n",
              "5     1.566303\n",
              "6     4.409079\n",
              "7     2.800599\n",
              "8     5.573619\n",
              "9     1.678868\n",
              "10    1.104316\n",
              "Name: Global_active_power, dtype: float64"
            ]
          },
          "metadata": {
            "tags": []
          },
          "execution_count": 58
        }
      ]
    }
  ]
}